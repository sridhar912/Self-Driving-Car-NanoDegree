{
 "cells": [
  {
   "cell_type": "code",
   "execution_count": 8,
   "metadata": {
    "collapsed": false
   },
   "outputs": [],
   "source": [
    "from PIL import Image\n",
    "from utils import *\n",
    "from keras import backend as K\n",
    "dim_ordering = K.image_dim_ordering()\n",
    "filepath = '/home/sridhar/code/SDCND/ReferencePython/simulator_50hz/simulator-linux/KeyBoardRecording/t1_center/IMG/center_2016_12_17_02_53_09_117.jpg'\n",
    "save_to_dir = '/home/sridhar/code/SDCND/ReferencePython/CarND-BehavioralCloning-P3/sample'\n",
    "img = Image.open(filepath)\n",
    "img = img.convert('RGB')\n",
    "theta = np.pi / 180 * 10\n",
    "rotation_matrix = np.array([[np.cos(theta), -np.sin(theta), 0],\n",
    "                            [np.sin(theta), np.cos(theta), 0],\n",
    "                            [0, 0, 1]])\n",
    "img_row_index = 0\n",
    "img_col_index = 1\n",
    "img_channel_index = 2\n",
    "fill_mode = 'nearest'\n",
    "cval = 0\n",
    "x = img_to_array(img, dim_ordering=dim_ordering)\n",
    "fname = 'input.jpeg'\n",
    "img.save(os.path.join(save_to_dir, fname))\n",
    "h, w = x.shape[img_row_index], x.shape[img_col_index]\n",
    "#transform_matrix = np.dot(np.dot(np.dot(rotation_matrix, translation_matrix), shear_matrix), zoom_matrix)\n",
    "transform_matrix = transform_matrix_offset_center(rotation_matrix, h, w)\n",
    "x = apply_transform(x, transform_matrix, img_channel_index,\n",
    "                            fill_mode=fill_mode, cval=cval)\n",
    "img = array_to_img(x, dim_ordering, scale=True)\n",
    "fname = 'rotation.jpeg'\n",
    "img.save(os.path.join(save_to_dir, fname))"
   ]
  },
  {
   "cell_type": "code",
   "execution_count": 15,
   "metadata": {
    "collapsed": false
   },
   "outputs": [],
   "source": [
    "filepath = '/home/sridhar/code/SDCND/ReferencePython/simulator_50hz/simulator-linux/KeyBoardRecording/t1_center/IMG/center_2016_12_17_02_53_09_117.jpg'\n",
    "save_to_dir = '/home/sridhar/code/SDCND/ReferencePython/CarND-BehavioralCloning-P3/sample'\n",
    "img = Image.open(filepath)\n",
    "img = img.convert('RGB')\n",
    "x = img_to_array(img, dim_ordering=dim_ordering)\n",
    "shift_val = .1\n",
    "tx = 0\n",
    "ty =  shift_val * x.shape[img_col_index]\n",
    "translation_matrix = np.array([[1, 0, tx],\n",
    "                               [0, 1, ty],\n",
    "                               [0, 0, 1]])\n",
    "h, w = x.shape[img_row_index], x.shape[img_col_index]\n",
    "transform_matrix = transform_matrix_offset_center(translation_matrix, h, w)\n",
    "x = apply_transform(x, transform_matrix, img_channel_index,\n",
    "                            fill_mode=fill_mode, cval=cval)\n",
    "img = array_to_img(x, dim_ordering, scale=True)\n",
    "fname = 'trans.jpeg'\n",
    "img.save(os.path.join(save_to_dir, fname))"
   ]
  },
  {
   "cell_type": "code",
   "execution_count": 18,
   "metadata": {
    "collapsed": true
   },
   "outputs": [],
   "source": [
    "filepath = '/home/sridhar/code/SDCND/ReferencePython/simulator_50hz/simulator-linux/KeyBoardRecording/t1_center/IMG/center_2016_12_17_02_53_09_117.jpg'\n",
    "save_to_dir = '/home/sridhar/code/SDCND/ReferencePython/CarND-BehavioralCloning-P3/sample'\n",
    "img = Image.open(filepath)\n",
    "img = img.convert('RGB')\n",
    "x = img_to_array(img, dim_ordering=dim_ordering)\n",
    "x = random_channel_shift(x, 15, img_channel_index)\n",
    "img = array_to_img(x, dim_ordering, scale=True)\n",
    "fname = 'CV.jpeg'\n",
    "img.save(os.path.join(save_to_dir, fname))"
   ]
  },
  {
   "cell_type": "code",
   "execution_count": 19,
   "metadata": {
    "collapsed": true
   },
   "outputs": [],
   "source": [
    "filepath = '/home/sridhar/code/SDCND/ReferencePython/simulator_50hz/simulator-linux/KeyBoardRecording/t1_center/IMG/center_2016_12_17_02_53_09_117.jpg'\n",
    "save_to_dir = '/home/sridhar/code/SDCND/ReferencePython/CarND-BehavioralCloning-P3/sample'\n",
    "img = Image.open(filepath)\n",
    "img = img.convert('RGB')\n",
    "x = img_to_array(img, dim_ordering=dim_ordering)\n",
    "x = flip_axis(x, img_col_index)\n",
    "img = array_to_img(x, dim_ordering, scale=True)\n",
    "fname = 'flip.jpeg'\n",
    "img.save(os.path.join(save_to_dir, fname))"
   ]
  },
  {
   "cell_type": "code",
   "execution_count": 21,
   "metadata": {
    "collapsed": true
   },
   "outputs": [],
   "source": [
    "filepath = '/home/sridhar/code/SDCND/ReferencePython/simulator_50hz/simulator-linux/KeyBoardRecording/t1_center/IMG/center_2016_12_17_02_53_09_117.jpg'\n",
    "save_to_dir = '/home/sridhar/code/SDCND/ReferencePython/CarND-BehavioralCloning-P3/sample'\n",
    "img = Image.open(filepath)\n",
    "img = img.convert('RGB')\n",
    "x = img_to_array(img, dim_ordering=dim_ordering)\n",
    "x = exposure.adjust_gamma(x, 2.0)\n",
    "img = array_to_img(x, dim_ordering, scale=True)\n",
    "fname = 'gm2.0.jpeg'\n",
    "img.save(os.path.join(save_to_dir, fname))"
   ]
  },
  {
   "cell_type": "code",
   "execution_count": null,
   "metadata": {
    "collapsed": true
   },
   "outputs": [],
   "source": []
  }
 ],
 "metadata": {
  "anaconda-cloud": {},
  "kernelspec": {
   "display_name": "Python [conda env:sdcnd]",
   "language": "python",
   "name": "conda-env-sdcnd-py"
  },
  "language_info": {
   "codemirror_mode": {
    "name": "ipython",
    "version": 3
   },
   "file_extension": ".py",
   "mimetype": "text/x-python",
   "name": "python",
   "nbconvert_exporter": "python",
   "pygments_lexer": "ipython3",
   "version": "3.5.2"
  }
 },
 "nbformat": 4,
 "nbformat_minor": 1
}
